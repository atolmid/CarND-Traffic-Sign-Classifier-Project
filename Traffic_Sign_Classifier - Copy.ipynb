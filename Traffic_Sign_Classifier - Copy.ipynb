{
 "cells": [
  {
   "cell_type": "markdown",
   "metadata": {
    "deletable": true,
    "editable": true
   },
   "source": [
    "# Self-Driving Car Engineer Nanodegree\n",
    "\n",
    "## Deep Learning\n",
    "\n",
    "## Project: Build a Traffic Sign Recognition Classifier\n",
    "\n",
    "In this notebook, a template is provided for you to implement your functionality in stages, which is required to successfully complete this project. If additional code is required that cannot be included in the notebook, be sure that the Python code is successfully imported and included in your submission if necessary. \n",
    "\n",
    "> **Note**: Once you have completed all of the code implementations, you need to finalize your work by exporting the iPython Notebook as an HTML document. Before exporting the notebook to html, all of the code cells need to have been run so that reviewers can see the final implementation and output. You can then export the notebook by using the menu above and navigating to  \\n\",\n",
    "    \"**File -> Download as -> HTML (.html)**. Include the finished document along with this notebook as your submission. \n",
    "\n",
    "In addition to implementing code, there is a writeup to complete. The writeup should be completed in a separate file, which can be either a markdown file or a pdf document. There is a [write up template](https://github.com/udacity/CarND-Traffic-Sign-Classifier-Project/blob/master/writeup_template.md) that can be used to guide the writing process. Completing the code template and writeup template will cover all of the [rubric points](https://review.udacity.com/#!/rubrics/481/view) for this project.\n",
    "\n",
    "The [rubric](https://review.udacity.com/#!/rubrics/481/view) contains \"Stand Out Suggestions\" for enhancing the project beyond the minimum requirements. The stand out suggestions are optional. If you decide to pursue the \"stand out suggestions\", you can include the code in this Ipython notebook and also discuss the results in the writeup file.\n",
    "\n",
    "\n",
    ">**Note:** Code and Markdown cells can be executed using the **Shift + Enter** keyboard shortcut. In addition, Markdown cells can be edited by typically double-clicking the cell to enter edit mode."
   ]
  },
  {
   "cell_type": "markdown",
   "metadata": {
    "deletable": true,
    "editable": true
   },
   "source": [
    "---\n",
    "## Step 0: Load The Data"
   ]
  },
  {
   "cell_type": "code",
   "execution_count": 1,
   "metadata": {
    "collapsed": false,
    "deletable": true,
    "editable": true
   },
   "outputs": [],
   "source": [
    "# Load pickled data\n",
    "import pickle\n",
    "import tensorflow as tf\n",
    "\n",
    "# TODO: Fill this in based on where you saved the training and testing data\n",
    "\n",
    "training_file = 'train.p'\n",
    "validation_file='valid.p'\n",
    "testing_file = 'test.p'\n",
    "\n",
    "with open(training_file, mode='rb') as f:\n",
    "    train = pickle.load(f)\n",
    "with open(validation_file, mode='rb') as f:\n",
    "    valid = pickle.load(f)\n",
    "with open(testing_file, mode='rb') as f:\n",
    "    test = pickle.load(f)\n",
    "    \n",
    "X_train, y_train = train['features'], train['labels']\n",
    "X_valid, y_valid = valid['features'], valid['labels']\n",
    "X_test, y_test = test['features'], test['labels']"
   ]
  },
  {
   "cell_type": "markdown",
   "metadata": {
    "deletable": true,
    "editable": true
   },
   "source": [
    "---\n",
    "\n",
    "## Step 1: Dataset Summary & Exploration\n",
    "\n",
    "The pickled data is a dictionary with 4 key/value pairs:\n",
    "\n",
    "- `'features'` is a 4D array containing raw pixel data of the traffic sign images, (num examples, width, height, channels).\n",
    "- `'labels'` is a 1D array containing the label/class id of the traffic sign. The file `signnames.csv` contains id -> name mappings for each id.\n",
    "- `'sizes'` is a list containing tuples, (width, height) representing the original width and height the image.\n",
    "- `'coords'` is a list containing tuples, (x1, y1, x2, y2) representing coordinates of a bounding box around the sign in the image. **THESE COORDINATES ASSUME THE ORIGINAL IMAGE. THE PICKLED DATA CONTAINS RESIZED VERSIONS (32 by 32) OF THESE IMAGES**\n",
    "\n",
    "Complete the basic data summary below. Use python, numpy and/or pandas methods to calculate the data summary rather than hard coding the results. For example, the [pandas shape method](http://pandas.pydata.org/pandas-docs/stable/generated/pandas.DataFrame.shape.html) might be useful for calculating some of the summary results. "
   ]
  },
  {
   "cell_type": "markdown",
   "metadata": {
    "deletable": true,
    "editable": true
   },
   "source": [
    "### Provide a Basic Summary of the Data Set Using Python, Numpy and/or Pandas"
   ]
  },
  {
   "cell_type": "code",
   "execution_count": 3,
   "metadata": {
    "collapsed": false,
    "deletable": true,
    "editable": true
   },
   "outputs": [
    {
     "name": "stdout",
     "output_type": "stream",
     "text": [
      "Number of training examples = 34799\n",
      "Number of testing examples = 12630\n",
      "Image data shape = (32, 32, 3)\n",
      "Number of classes = 43\n",
      "\n",
      "Training Data Shape: (34799, 32, 32, 3)\n",
      "\n",
      "\n",
      "Training Labels Shape: (34799,)\n",
      "\n"
     ]
    }
   ],
   "source": [
    "### Replace each question mark with the appropriate value. \n",
    "### Use python, pandas or numpy methods rather than hard coding the results\n",
    "\n",
    "# TODO: Number of training examples\n",
    "n_train = X_train.shape[0]\n",
    "\n",
    "# TODO: Number of testing examples.\n",
    "n_test =  X_test.shape[0]\n",
    "\n",
    "# TODO: What's the shape of an traffic sign image?\n",
    "image_shape = X_train.shape[1:]\n",
    "\n",
    "# TODO: How many unique classes/labels there are in the dataset.\n",
    "tr_set = set(y_train)\n",
    "# getting all unique labels in test set\n",
    "te_set = set(y_test)\n",
    "# getting all unique labels in both sets (their union)\n",
    "t_set = tr_set.union(te_set)\n",
    "# number of unique labels (signs)\n",
    "n_classes = len(t_set)\n",
    "\n",
    "print(\"Number of training examples =\", n_train)\n",
    "print(\"Number of testing examples =\", n_test)\n",
    "print(\"Image data shape =\", image_shape)\n",
    "print(\"Number of classes =\", n_classes)\n",
    "\n",
    "# print the training dataset shape\n",
    "print()\n",
    "print(\"Training Data Shape: {}\".format(X_train.shape))\n",
    "print()\n",
    "\n",
    "print()\n",
    "print(\"Training Labels Shape: {}\".format(y_train.shape))\n",
    "print()"
   ]
  },
  {
   "cell_type": "markdown",
   "metadata": {
    "deletable": true,
    "editable": true
   },
   "source": [
    "### Include an exploratory visualization of the dataset"
   ]
  },
  {
   "cell_type": "markdown",
   "metadata": {
    "deletable": true,
    "editable": true
   },
   "source": [
    "Visualize the German Traffic Signs Dataset using the pickled file(s). This is open ended, suggestions include: plotting traffic sign images, plotting the count of each sign, etc.\n",
    "\n",
    "The [Matplotlib](http://matplotlib.org/) [examples](http://matplotlib.org/examples/index.html) and [gallery](http://matplotlib.org/gallery.html) pages are a great resource for doing visualizations in Python.\n",
    "\n",
    "**NOTE:** It's recommended you start with something simple first. If you wish to do more, come back to it after you've completed the rest of the sections."
   ]
  },
  {
   "cell_type": "code",
   "execution_count": 4,
   "metadata": {
    "collapsed": false,
    "deletable": true,
    "editable": true
   },
   "outputs": [
    {
     "data": {
      "image/png": "[encoded data removed]",
      "text/plain": [
       "<matplotlib.figure.Figure at 0x9096ac8>"
      ]
     },
     "metadata": {},
     "output_type": "display_data"
    }
   ],
   "source": [
    "### Data exploration visualization code goes here.\n",
    "### Feel free to use as many code cells as needed.\n",
    "import matplotlib.pyplot as plt\n",
    "\n",
    "\"\"\"\n",
    "Plotting Class Labels against their respective frequencies in a Bar Graph\n",
    "\"\"\"\n",
    "from collections import Counter\n",
    "\n",
    "%matplotlib inline\n",
    "\n",
    "plt.figure(figsize=(15,15))\n",
    "temp_labels = y_train.reshape(len(y_train)).tolist()\n",
    "temp_labels = dict(Counter(temp_labels))\n",
    "plt.bar(range(len(temp_labels)), temp_labels.values(), align='center', label='Training Labels')\n",
    "plt.xticks(range(len(temp_labels)), temp_labels.keys())\n",
    "temp_labels = y_test.reshape(len(y_test)).tolist()\n",
    "temp_labels = dict(Counter(temp_labels))\n",
    "plt.bar(range(len(temp_labels)), temp_labels.values(), align='center', color='red', label='Testing Labels')\n",
    "plt.legend()\n",
    "plt.xlabel('Class Labels')\n",
    "plt.ylabel('Frequency')\n",
    "plt.title('Frequency Distribution of Class Labels')\n",
    "plt.ion()\n",
    "#============================================================================\n"
   ]
  },
  {
   "cell_type": "code",
   "execution_count": 5,
   "metadata": {
    "collapsed": false,
    "deletable": true,
    "editable": true
   },
   "outputs": [
    {
     "name": "stdout",
     "output_type": "stream",
     "text": [
      "\n",
      "Image Shape: (32, 32, 3)\n",
      "\n",
      "Image Label: 3\n"
     ]
    },
    {
     "data": {
      "image/png": "[encoded data removed]",
      "text/plain": [
       "<matplotlib.figure.Figure at 0x99e5f60>"
      ]
     },
     "metadata": {},
     "output_type": "display_data"
    }
   ],
   "source": [
    "### Data exploration visualization code goes here.\n",
    "### Feel free to use as many code cells as needed.\n",
    "\n",
    "# plotting a random image from the training dataset\n",
    "%matplotlib inline\n",
    "import cv2\n",
    "import random\n",
    "\n",
    "index = random.randint(0, len(X_train))\n",
    "image = X_train[index].squeeze()\n",
    "print()\n",
    "print(\"Image Shape: {}\".format(image.shape))\n",
    "print()\n",
    "plt.figure(figsize=(1,1))\n",
    "plt.imshow(image)\n",
    "print(\"Image Label: {}\".format(y_train[index]))"
   ]
  },
  {
   "cell_type": "markdown",
   "metadata": {
    "deletable": true,
    "editable": true
   },
   "source": [
    "----\n",
    "\n",
    "## Step 2: Design and Test a Model Architecture\n",
    "\n",
    "Design and implement a deep learning model that learns to recognize traffic signs. Train and test your model on the [German Traffic Sign Dataset](http://benchmark.ini.rub.de/?section=gtsrb&subsection=dataset).\n",
    "\n",
    "The LeNet-5 implementation shown in the [classroom](https://classroom.udacity.com/nanodegrees/nd013/parts/fbf77062-5703-404e-b60c-95b78b2f3f9e/modules/6df7ae49-c61c-4bb2-a23e-6527e69209ec/lessons/601ae704-1035-4287-8b11-e2c2716217ad/concepts/d4aca031-508f-4e0b-b493-e7b706120f81) at the end of the CNN lesson is a solid starting point. You'll have to change the number of classes and possibly the preprocessing, but aside from that it's plug and play! \n",
    "\n",
    "With the LeNet-5 solution from the lecture, you should expect a validation set accuracy of about 0.89. To meet specifications, the validation set accuracy will need to be at least 0.93. It is possible to get an even higher accuracy, but 0.93 is the minimum for a successful project submission. \n",
    "\n",
    "There are various aspects to consider when thinking about this problem:\n",
    "\n",
    "- Neural network architecture (is the network over or underfitting?)\n",
    "- Play around preprocessing techniques (normalization, rgb to grayscale, etc)\n",
    "- Number of examples per label (some have more than others).\n",
    "- Generate fake data.\n",
    "\n",
    "Here is an example of a [published baseline model on this problem](http://yann.lecun.com/exdb/publis/pdf/sermanet-ijcnn-11.pdf). It's not required to be familiar with the approach used in the paper but, it's good practice to try to read papers like these."
   ]
  },
  {
   "cell_type": "markdown",
   "metadata": {
    "deletable": true,
    "editable": true
   },
   "source": [
    "### Pre-process the Data Set (normalization, grayscale, etc.)"
   ]
  },
  {
   "cell_type": "markdown",
   "metadata": {
    "deletable": true,
    "editable": true
   },
   "source": [
    "Use the code cell (or multiple code cells, if necessary) to implement the first step of your project."
   ]
  },
  {
   "cell_type": "code",
   "execution_count": 6,
   "metadata": {
    "collapsed": false,
    "deletable": true,
    "editable": true
   },
   "outputs": [],
   "source": [
    "### Preprocess the data here. Preprocessing steps could include normalization, converting to grayscale, etc.\n",
    "### Feel free to use as many code cells as needed.\n",
    "\n",
    "# convert images to grayscale\n",
    "from PIL import Image\n",
    "import numpy as np\n",
    "\n",
    "# training set\n",
    "#tr_x = []\n",
    "#for i in range(len(X_train)):\n",
    "#    image = X_train[i].squeeze()\n",
    "#    gray_image = cv2.cvtColor(image, cv2.COLOR_BGR2GRAY)\n",
    "#    tr_x.append(cv2.cvtColor(image, cv2.COLOR_BGR2GRAY))\n",
    "#X_train = np.array(tr_x)\n",
    "# validation set\n",
    "#tr_x = []\n",
    "#for j in range(len(X_test)):\n",
    "#    image = X_test[j].squeeze()\n",
    "#    tr_x.append(cv2.cvtColor(image, cv2.COLOR_BGR2GRAY))\n",
    "#X_test = np.array(tr_x)\n",
    "# test set\n",
    "#tr_x = []\n",
    "#for j in range(len(X_valid)):\n",
    "#    image = X_valid[j].squeeze()\n",
    "#    tr_x.append(cv2.cvtColor(image, cv2.COLOR_BGR2GRAY))\n",
    "#X_valid = np.array(tr_x)"
   ]
  },
  {
   "cell_type": "code",
   "execution_count": 7,
   "metadata": {
    "collapsed": false,
    "deletable": true,
    "editable": true
   },
   "outputs": [
    {
     "name": "stdout",
     "output_type": "stream",
     "text": [
      "\n",
      "Training Data Shape: (34799, 32, 32, 3)\n",
      "\n",
      "\n",
      "Training labels Shape: (34799,)\n",
      "\n"
     ]
    }
   ],
   "source": [
    "# print the dataset shape\n",
    "print()\n",
    "print(\"Training Data Shape: {}\".format(X_train.shape))\n",
    "print()\n",
    "print()\n",
    "print(\"Training labels Shape: {}\".format(y_train.shape))\n",
    "print()"
   ]
  },
  {
   "cell_type": "code",
   "execution_count": 8,
   "metadata": {
    "collapsed": true,
    "deletable": true,
    "editable": true
   },
   "outputs": [],
   "source": [
    "# function to reformat the dataset, so that it has appropriate dimensions\n",
    "def reformat(dataset):\n",
    "    dataset = dataset.reshape((-1, image_height, image_width, num_channels))\n",
    "    return dataset\n"
   ]
  },
  {
   "cell_type": "code",
   "execution_count": 9,
   "metadata": {
    "collapsed": false,
    "deletable": true,
    "editable": true
   },
   "outputs": [
    {
     "name": "stdout",
     "output_type": "stream",
     "text": [
      "\n",
      "Training Data Shape: (34799, 32, 32, 3)\n",
      "\n",
      "\n",
      "Training Labels Shape: (34799,)\n",
      "\n",
      "\n",
      "Validation Data Shape: (4410, 32, 32, 3)\n",
      "\n",
      "\n",
      "Validation Labels Shape: (4410,)\n",
      "\n",
      "\n",
      "Test Data Shape: (12630, 32, 32, 3)\n",
      "\n",
      "\n",
      "Test Labels Shape: (12630,)\n",
      "\n"
     ]
    }
   ],
   "source": [
    "# reformat the dataset\n",
    "image_height = 32 #X_train.shape[1]\n",
    "image_width = 32 #X_train.shape[2]\n",
    "num_channels = 3\n",
    "\n",
    "# reformat the dataset\n",
    "#X_train = reformat(X_train)\n",
    "#X_valid = reformat(X_valid)\n",
    "#X_test= reformat(X_test)\n",
    "# normalise the dataset\n",
    "X_train = X_train/255.0\n",
    "X_valid = X_valid/255.0\n",
    "X_test= X_test/255.0\n",
    "# print the dataset shape\n",
    "print()\n",
    "print(\"Training Data Shape: {}\".format(X_train.shape))\n",
    "print()\n",
    "\n",
    "print()\n",
    "print(\"Training Labels Shape: {}\".format(y_train.shape))\n",
    "print()\n",
    "\n",
    "print()\n",
    "print(\"Validation Data Shape: {}\".format(X_valid.shape))\n",
    "print()\n",
    "\n",
    "print()\n",
    "print(\"Validation Labels Shape: {}\".format(y_valid.shape))\n",
    "print()\n",
    "\n",
    "print()\n",
    "print(\"Test Data Shape: {}\".format(X_test.shape))\n",
    "print()\n",
    "\n",
    "print()\n",
    "print(\"Test Labels Shape: {}\".format(y_test.shape))\n",
    "print()"
   ]
  },
  {
   "cell_type": "code",
   "execution_count": 10,
   "metadata": {
    "collapsed": false,
    "deletable": true,
    "editable": true
   },
   "outputs": [
    {
     "name": "stdout",
     "output_type": "stream",
     "text": [
      "\n",
      "Image Shape: (32, 32, 3)\n",
      "\n",
      "Image Label: 7\n"
     ]
    },
    {
     "data": {
      "image/png": "[encoded data removed]",
      "text/plain": [
       "<matplotlib.figure.Figure at 0x909bac8>"
      ]
     },
     "metadata": {},
     "output_type": "display_data"
    }
   ],
   "source": [
    "# plotting a random image from the grayscale training dataset\n",
    "%matplotlib inline\n",
    "import cv2\n",
    "\n",
    "index = random.randint(0, len(X_train))\n",
    "image = X_train[index].squeeze()\n",
    "print()\n",
    "print(\"Image Shape: {}\".format(image.shape))\n",
    "print()\n",
    "plt.figure(figsize=(1,1))\n",
    "plt.imshow(image, cmap=\"gray\")\n",
    "print(\"Image Label: {}\".format(y_train[index]))"
   ]
  },
  {
   "cell_type": "markdown",
   "metadata": {
    "deletable": true,
    "editable": true
   },
   "source": [
    "### Model Architecture"
   ]
  },
  {
   "cell_type": "code",
   "execution_count": 11,
   "metadata": {
    "collapsed": false,
    "deletable": true,
    "editable": true
   },
   "outputs": [],
   "source": [
    "### Define your architecture here.\n",
    "### Feel free to use as many code cells as needed.\n",
    "# Weights/biases definition\n",
    "mu = 0\n",
    "sigma = 0.1\n",
    "filter_size = 5\n",
    "W1 = tf.Variable(tf.truncated_normal((filter_size, filter_size, 3, 6), mean = mu, stddev=sigma, dtype=tf.float32))\n",
    "b1 = tf.Variable(tf.zeros(6))\n",
    "W2 = tf.Variable(tf.truncated_normal((filter_size, filter_size, 6, 16), mean = mu, stddev=sigma, dtype=tf.float32))\n",
    "b2 = tf.Variable(tf.zeros(16))\n",
    "W3 = tf.Variable(tf.truncated_normal((400, 120), mean = mu, stddev=sigma, dtype=tf.float32))\n",
    "b3 = tf.Variable(tf.zeros(120))\n",
    "W4 = tf.Variable(tf.truncated_normal((120, 84), mean = mu, stddev=sigma, dtype=tf.float32))\n",
    "b4 = tf.Variable(tf.zeros(84))\n",
    "W5 = tf.Variable(tf.truncated_normal((84, n_classes), mean = mu, stddev=sigma, dtype=tf.float32))\n",
    "b5 = tf.Variable(tf.zeros(n_classes))\n",
    "\n",
    "\n",
    "def LeNet(x, keep_prob=1.0):    \n",
    "    # Arguments used for tf.truncated_normal, randomly defines variables for the weights and biases for each layer\n",
    "    #mu = 0\n",
    "    #sigma = 0.1\n",
    "    \n",
    "    # TODO: Layer 1: Convolutional. Input = 32x32x1. Output = 28x28x6.\n",
    "    #filter_size = 5\n",
    "    strides = [1,1,1,1]\n",
    "    padding = 'VALID'\n",
    "    #W1 = tf.Variable(tf.truncated_normal((filter_size, filter_size, 1, 6), mean = mu, stddev=sigma, dtype=tf.float32))\n",
    "    #b1 = tf.Variable(tf.zeros(6))\n",
    "    x1 = tf.nn.conv2d(x, W1, strides, padding) + b1\n",
    "\n",
    "    # Activation.\n",
    "    x1 = tf.nn.relu(x1)\n",
    "    # Pooling. Input = 28x28x6. Output = 14x14x6.\n",
    "    x1 = tf.nn.max_pool(x1, [1,2,2,1], [1,2,2,1], padding)\n",
    "    # Layer 2: Convolutional. Output = 10x10x16.\n",
    "    #W2 = tf.Variable(tf.truncated_normal((filter_size, filter_size, 6, 16), mean = mu, stddev=sigma, dtype=tf.float32))\n",
    "    #b2 = tf.Variable(tf.zeros(16))\n",
    "    x2 = tf.nn.conv2d(x1, W2, strides, padding) + b2\n",
    "    # Activation.\n",
    "    x2 = tf.nn.relu(x2)\n",
    "    # Pooling. Input = 10x10x16. Output = 5x5x16.\n",
    "    x2 = tf.nn.max_pool(x2, [1,2,2,1], [1,2,2,1], padding)\n",
    "    # Flatten. Input = 5x5x16. Output = 400.\n",
    "    x2 = tf.contrib.layers.flatten(x2)\n",
    "        \n",
    "    # Layer 3: Fully Connected. Input = 400. Output = 120.\n",
    "    #W3 = tf.Variable(tf.truncated_normal((400, 120), mean = mu, stddev=sigma, dtype=tf.float32))\n",
    "    #b3 = tf.Variable(tf.zeros(120))\n",
    "    x3 = tf.matmul(x2, W3) + b3\n",
    "    # Activation.\n",
    "    x3 = tf.nn.relu(x3)\n",
    "    # dropout\n",
    "    x3 = tf.nn.dropout(x3, keep_prob)\n",
    "    # Layer 4: Fully Connected. Input = 120. Output = 84.\n",
    "    #W4 = tf.Variable(tf.truncated_normal((120, 84), mean = mu, stddev=sigma, dtype=tf.float32))\n",
    "    #b4 = tf.Variable(tf.zeros(84))\n",
    "    x4 = tf.matmul(x3, W4) + b4\n",
    "    # TODO: Activation.\n",
    "    x4 = tf.nn.relu(x4)\n",
    "    # Layer 5: Fully Connected. Input = 84. Output = n_classes.\n",
    "    #W5 = tf.Variable(tf.truncated_normal((84, n_classes), mean = mu, stddev=sigma, dtype=tf.float32))\n",
    "    #b5 = tf.Variable(tf.zeros(n_classes))\n",
    "    logits = tf.matmul(x4, W5) + b5\n",
    "    return logits"
   ]
  },
  {
   "cell_type": "markdown",
   "metadata": {
    "deletable": true,
    "editable": true
   },
   "source": [
    "### Train, Validate and Test the Model"
   ]
  },
  {
   "cell_type": "markdown",
   "metadata": {
    "deletable": true,
    "editable": true
   },
   "source": [
    "A validation set can be used to assess how well the model is performing. A low accuracy on the training and validation\n",
    "sets imply underfitting. A high accuracy on the training set but low accuracy on the validation set implies overfitting."
   ]
  },
  {
   "cell_type": "code",
   "execution_count": 12,
   "metadata": {
    "collapsed": false,
    "deletable": true,
    "editable": true
   },
   "outputs": [],
   "source": [
    "### Train your model here.\n",
    "### Calculate and report the accuracy on the training and validation set.\n",
    "### Once a final model architecture is selected, \n",
    "### the accuracy on the test set should be calculated and reported as well.\n",
    "### Feel free to use as many code cells as needed.\n",
    "import tensorflow as tf\n",
    "\n",
    "x = tf.placeholder(tf.float32, (None, 32, 32, num_channels))\n",
    "y = tf.placeholder(tf.int32, (None))\n",
    "one_hot_y = tf.one_hot(y, n_classes)\n"
   ]
  },
  {
   "cell_type": "code",
   "execution_count": 17,
   "metadata": {
    "collapsed": true,
    "deletable": true,
    "editable": true
   },
   "outputs": [],
   "source": [
    "EPOCHS = 200\n",
    "BATCH_SIZE = 128"
   ]
  },
  {
   "cell_type": "code",
   "execution_count": 18,
   "metadata": {
    "collapsed": false,
    "deletable": true,
    "editable": true
   },
   "outputs": [],
   "source": [
    "keep_prob = 0.5\n",
    "# Training computation\n",
    "\n",
    "rate = 0.001\n",
    "beta = 0.001\n",
    "\n",
    "logits = LeNet(x, keep_prob)\n",
    "#logits = LeNet(x)\n",
    "cross_entropy = tf.nn.softmax_cross_entropy_with_logits(logits=logits, labels=one_hot_y) + beta*tf.nn.l2_loss(W4) + beta*tf.nn.l2_loss(b4) + beta*tf.nn.l2_loss(W5) + beta*tf.nn.l2_loss(b5)\n",
    "# Minimize error using cross entropy\n",
    "loss_operation = tf.reduce_mean(cross_entropy)\n",
    "#        # Loss function with L2 Regularization with beta=0.01\n",
    "#        #regularizers = tf.nn.l2_loss(conv1_w) + tf.nn.l2_loss(conv2_w) + tf.nn.l2_loss(conv3_w) + tf.nn.l2_loss(fc1_w) + tf.nn.l2_loss(fc2_w)\n",
    "#        #cost = tf.reduce_mean(cost + beta * regularizers)\n",
    "optimizer = tf.train.AdamOptimizer(learning_rate = rate)\n",
    "training_operation = optimizer.minimize(loss_operation)"
   ]
  },
  {
   "cell_type": "code",
   "execution_count": 19,
   "metadata": {
    "collapsed": true,
    "deletable": true,
    "editable": true
   },
   "outputs": [],
   "source": [
    "correct_prediction = tf.equal(tf.argmax(logits, 1), tf.argmax(one_hot_y, 1))\n",
    "accuracy_operation = tf.reduce_mean(tf.cast(correct_prediction, tf.float32))\n",
    "saver = tf.train.Saver()\n",
    "\n",
    "def evaluate(X_data, y_data):\n",
    "    num_examples = len(X_data)\n",
    "    total_accuracy = 0\n",
    "    sess = tf.get_default_session()\n",
    "    for offset in range(0, num_examples, BATCH_SIZE):\n",
    "        batch_x, batch_y = X_data[offset:offset+BATCH_SIZE], y_data[offset:offset+BATCH_SIZE]\n",
    "        accuracy = sess.run(accuracy_operation, feed_dict={x: batch_x, y: batch_y})\n",
    "        total_accuracy += (accuracy * len(batch_x))\n",
    "    return total_accuracy / num_examples"
   ]
  },
  {
   "cell_type": "code",
   "execution_count": 20,
   "metadata": {
    "collapsed": false,
    "deletable": true,
    "editable": true
   },
   "outputs": [
    {
     "name": "stdout",
     "output_type": "stream",
     "text": [
      "Training...\n",
      "\n",
      "\n",
      "EPOCH 1 ...\n",
      "Validation Accuracy = 0.570\n",
      "\n",
      "\n",
      "EPOCH 2 ...\n",
      "Validation Accuracy = 0.713\n",
      "\n",
      "\n",
      "EPOCH 3 ...\n",
      "Validation Accuracy = 0.777\n",
      "\n",
      "\n",
      "EPOCH 4 ...\n",
      "Validation Accuracy = 0.790\n",
      "\n",
      "\n",
      "EPOCH 5 ...\n",
      "Validation Accuracy = 0.827\n",
      "\n",
      "\n",
      "EPOCH 6 ...\n",
      "Validation Accuracy = 0.837\n",
      "\n",
      "\n",
      "EPOCH 7 ...\n",
      "Validation Accuracy = 0.861\n",
      "\n",
      "\n",
      "EPOCH 8 ...\n",
      "Validation Accuracy = 0.875\n",
      "\n",
      "\n",
      "EPOCH 9 ...\n",
      "Validation Accuracy = 0.873\n",
      "\n",
      "\n",
      "EPOCH 10 ...\n",
      "Validation Accuracy = 0.874\n",
      "\n",
      "\n",
      "EPOCH 11 ...\n",
      "Validation Accuracy = 0.894\n",
      "\n",
      "\n",
      "EPOCH 12 ...\n",
      "Validation Accuracy = 0.894\n",
      "\n",
      "\n",
      "EPOCH 13 ...\n",
      "Validation Accuracy = 0.898\n",
      "\n",
      "\n",
      "EPOCH 14 ...\n",
      "Validation Accuracy = 0.892\n",
      "\n",
      "\n",
      "EPOCH 15 ...\n",
      "Validation Accuracy = 0.899\n",
      "\n",
      "\n",
      "EPOCH 16 ...\n",
      "Validation Accuracy = 0.902\n",
      "\n",
      "\n",
      "EPOCH 17 ...\n",
      "Validation Accuracy = 0.907\n",
      "\n",
      "\n",
      "EPOCH 18 ...\n",
      "Validation Accuracy = 0.910\n",
      "\n",
      "\n",
      "EPOCH 19 ...\n",
      "Validation Accuracy = 0.917\n",
      "\n",
      "\n",
      "EPOCH 20 ...\n",
      "Validation Accuracy = 0.912\n",
      "\n",
      "\n",
      "EPOCH 21 ...\n",
      "Validation Accuracy = 0.906\n",
      "\n",
      "\n",
      "EPOCH 22 ...\n",
      "Validation Accuracy = 0.918\n",
      "\n",
      "\n",
      "EPOCH 23 ...\n",
      "Validation Accuracy = 0.919\n",
      "\n",
      "\n",
      "EPOCH 24 ...\n",
      "Validation Accuracy = 0.913\n",
      "\n",
      "\n",
      "EPOCH 25 ...\n",
      "Validation Accuracy = 0.912\n",
      "\n",
      "\n",
      "EPOCH 26 ...\n",
      "Validation Accuracy = 0.926\n",
      "\n",
      "\n",
      "EPOCH 27 ...\n",
      "Validation Accuracy = 0.921\n",
      "\n",
      "\n",
      "EPOCH 28 ...\n",
      "Validation Accuracy = 0.919\n",
      "\n",
      "\n",
      "EPOCH 29 ...\n",
      "Validation Accuracy = 0.912\n",
      "\n",
      "\n",
      "EPOCH 30 ...\n",
      "Validation Accuracy = 0.928\n",
      "\n",
      "\n",
      "EPOCH 31 ...\n",
      "Validation Accuracy = 0.925\n",
      "\n",
      "\n",
      "EPOCH 32 ...\n",
      "Validation Accuracy = 0.918\n",
      "\n",
      "\n",
      "EPOCH 33 ...\n",
      "Validation Accuracy = 0.926\n",
      "\n",
      "\n",
      "EPOCH 34 ...\n",
      "Validation Accuracy = 0.924\n",
      "\n",
      "\n",
      "EPOCH 35 ...\n",
      "Validation Accuracy = 0.929\n",
      "\n",
      "\n",
      "EPOCH 36 ...\n",
      "Validation Accuracy = 0.929\n",
      "\n",
      "\n",
      "EPOCH 37 ...\n",
      "Validation Accuracy = 0.924\n",
      "\n",
      "\n",
      "EPOCH 38 ...\n",
      "Validation Accuracy = 0.919\n",
      "\n",
      "\n",
      "EPOCH 39 ...\n",
      "Validation Accuracy = 0.931\n",
      "\n",
      "\n",
      "EPOCH 40 ...\n",
      "Validation Accuracy = 0.924\n",
      "\n",
      "\n",
      "EPOCH 41 ...\n",
      "Validation Accuracy = 0.920\n",
      "\n",
      "\n",
      "EPOCH 42 ...\n",
      "Validation Accuracy = 0.930\n",
      "\n",
      "\n",
      "EPOCH 43 ...\n",
      "Validation Accuracy = 0.923\n",
      "\n",
      "\n",
      "EPOCH 44 ...\n",
      "Validation Accuracy = 0.918\n",
      "\n",
      "\n",
      "EPOCH 45 ...\n",
      "Validation Accuracy = 0.930\n",
      "\n",
      "\n",
      "EPOCH 46 ...\n",
      "Validation Accuracy = 0.934\n",
      "\n",
      "\n",
      "EPOCH 47 ...\n",
      "Validation Accuracy = 0.922\n",
      "\n",
      "\n",
      "EPOCH 48 ...\n",
      "Validation Accuracy = 0.938\n",
      "\n",
      "\n",
      "EPOCH 49 ...\n",
      "Validation Accuracy = 0.929\n",
      "\n",
      "\n",
      "EPOCH 50 ...\n",
      "Validation Accuracy = 0.925\n",
      "\n",
      "\n",
      "EPOCH 51 ...\n",
      "Validation Accuracy = 0.932\n",
      "\n",
      "\n",
      "EPOCH 52 ...\n",
      "Validation Accuracy = 0.932\n",
      "\n",
      "\n",
      "EPOCH 53 ...\n",
      "Validation Accuracy = 0.937\n",
      "\n",
      "\n",
      "EPOCH 54 ...\n",
      "Validation Accuracy = 0.933\n",
      "\n",
      "\n",
      "EPOCH 55 ...\n",
      "Validation Accuracy = 0.930\n",
      "\n",
      "\n",
      "EPOCH 56 ...\n",
      "Validation Accuracy = 0.941\n",
      "\n",
      "\n",
      "EPOCH 57 ...\n",
      "Validation Accuracy = 0.933\n",
      "\n",
      "\n",
      "EPOCH 58 ...\n",
      "Validation Accuracy = 0.937\n",
      "\n",
      "\n",
      "EPOCH 59 ...\n",
      "Validation Accuracy = 0.941\n",
      "\n",
      "\n",
      "EPOCH 60 ...\n",
      "Validation Accuracy = 0.938\n",
      "\n",
      "\n",
      "EPOCH 61 ...\n",
      "Validation Accuracy = 0.932\n",
      "\n",
      "\n",
      "EPOCH 62 ...\n",
      "Validation Accuracy = 0.941\n",
      "\n",
      "\n",
      "EPOCH 63 ...\n",
      "Validation Accuracy = 0.939\n",
      "\n",
      "\n",
      "EPOCH 64 ...\n",
      "Validation Accuracy = 0.926\n",
      "\n",
      "\n",
      "EPOCH 65 ...\n",
      "Validation Accuracy = 0.940\n",
      "\n",
      "\n",
      "EPOCH 66 ...\n",
      "Validation Accuracy = 0.932\n",
      "\n",
      "\n",
      "EPOCH 67 ...\n",
      "Validation Accuracy = 0.934\n",
      "\n",
      "\n",
      "EPOCH 68 ...\n",
      "Validation Accuracy = 0.934\n",
      "\n",
      "\n",
      "EPOCH 69 ...\n",
      "Validation Accuracy = 0.933\n",
      "\n",
      "\n",
      "EPOCH 70 ...\n",
      "Validation Accuracy = 0.936\n",
      "\n",
      "\n",
      "EPOCH 71 ...\n",
      "Validation Accuracy = 0.944\n",
      "\n",
      "\n",
      "EPOCH 72 ...\n",
      "Validation Accuracy = 0.944\n",
      "\n",
      "\n",
      "EPOCH 73 ...\n",
      "Validation Accuracy = 0.936\n",
      "\n",
      "\n",
      "EPOCH 74 ...\n",
      "Validation Accuracy = 0.944\n",
      "\n",
      "\n",
      "EPOCH 75 ...\n",
      "Validation Accuracy = 0.939\n",
      "\n",
      "\n",
      "EPOCH 76 ...\n",
      "Validation Accuracy = 0.940\n",
      "\n",
      "\n",
      "EPOCH 77 ...\n",
      "Validation Accuracy = 0.944\n",
      "\n",
      "\n",
      "EPOCH 78 ...\n",
      "Validation Accuracy = 0.938\n",
      "\n",
      "\n",
      "EPOCH 79 ...\n",
      "Validation Accuracy = 0.937\n",
      "\n",
      "\n",
      "EPOCH 80 ...\n",
      "Validation Accuracy = 0.934\n",
      "\n",
      "\n",
      "EPOCH 81 ...\n",
      "Validation Accuracy = 0.940\n",
      "\n",
      "\n",
      "EPOCH 82 ...\n",
      "Validation Accuracy = 0.939\n",
      "\n",
      "\n",
      "EPOCH 83 ...\n",
      "Validation Accuracy = 0.942\n",
      "\n",
      "\n",
      "EPOCH 84 ...\n",
      "Validation Accuracy = 0.946\n",
      "\n",
      "\n",
      "EPOCH 85 ...\n",
      "Validation Accuracy = 0.936\n",
      "\n",
      "\n",
      "EPOCH 86 ...\n",
      "Validation Accuracy = 0.928\n",
      "\n",
      "\n",
      "EPOCH 87 ...\n",
      "Validation Accuracy = 0.942\n",
      "\n",
      "\n",
      "EPOCH 88 ...\n",
      "Validation Accuracy = 0.945\n",
      "\n",
      "\n",
      "EPOCH 89 ...\n",
      "Validation Accuracy = 0.951\n",
      "\n",
      "\n",
      "EPOCH 90 ...\n",
      "Validation Accuracy = 0.941\n",
      "\n",
      "\n",
      "EPOCH 91 ...\n",
      "Validation Accuracy = 0.944\n",
      "\n",
      "\n",
      "EPOCH 92 ...\n",
      "Validation Accuracy = 0.944\n",
      "\n",
      "\n",
      "EPOCH 93 ...\n",
      "Validation Accuracy = 0.934\n",
      "\n",
      "\n",
      "EPOCH 94 ...\n",
      "Validation Accuracy = 0.941\n",
      "\n",
      "\n",
      "EPOCH 95 ...\n",
      "Validation Accuracy = 0.938\n",
      "\n",
      "\n",
      "EPOCH 96 ...\n",
      "Validation Accuracy = 0.940\n",
      "\n",
      "\n",
      "EPOCH 97 ...\n",
      "Validation Accuracy = 0.942\n",
      "\n",
      "\n",
      "EPOCH 98 ...\n",
      "Validation Accuracy = 0.948\n",
      "\n",
      "\n",
      "EPOCH 99 ...\n",
      "Validation Accuracy = 0.950\n",
      "\n",
      "\n",
      "EPOCH 100 ...\n",
      "Validation Accuracy = 0.946\n",
      "\n",
      "\n",
      "EPOCH 101 ...\n",
      "Validation Accuracy = 0.949\n",
      "\n",
      "\n",
      "EPOCH 102 ...\n",
      "Validation Accuracy = 0.945\n",
      "\n",
      "\n",
      "EPOCH 103 ...\n",
      "Validation Accuracy = 0.938\n",
      "\n",
      "\n",
      "EPOCH 104 ...\n",
      "Validation Accuracy = 0.944\n",
      "\n",
      "\n",
      "EPOCH 105 ...\n",
      "Validation Accuracy = 0.943\n",
      "\n",
      "\n",
      "EPOCH 106 ...\n",
      "Validation Accuracy = 0.946\n",
      "\n",
      "\n",
      "EPOCH 107 ...\n",
      "Validation Accuracy = 0.935\n",
      "\n",
      "\n",
      "EPOCH 108 ...\n",
      "Validation Accuracy = 0.943\n",
      "\n",
      "\n",
      "EPOCH 109 ...\n",
      "Validation Accuracy = 0.944\n",
      "\n",
      "\n",
      "EPOCH 110 ...\n",
      "Validation Accuracy = 0.935\n",
      "\n",
      "\n",
      "EPOCH 111 ...\n",
      "Validation Accuracy = 0.942\n",
      "\n",
      "\n",
      "EPOCH 112 ...\n",
      "Validation Accuracy = 0.946\n",
      "\n",
      "\n",
      "EPOCH 113 ...\n",
      "Validation Accuracy = 0.943\n",
      "\n",
      "\n",
      "EPOCH 114 ...\n",
      "Validation Accuracy = 0.948\n",
      "\n",
      "\n",
      "EPOCH 115 ...\n",
      "Validation Accuracy = 0.950\n",
      "\n",
      "\n",
      "EPOCH 116 ...\n",
      "Validation Accuracy = 0.943\n",
      "\n",
      "\n",
      "EPOCH 117 ...\n",
      "Validation Accuracy = 0.940\n",
      "\n",
      "\n",
      "EPOCH 118 ...\n",
      "Validation Accuracy = 0.942\n",
      "\n",
      "\n",
      "EPOCH 119 ...\n",
      "Validation Accuracy = 0.942\n",
      "\n",
      "\n",
      "EPOCH 120 ...\n",
      "Validation Accuracy = 0.942\n",
      "\n",
      "\n",
      "EPOCH 121 ...\n",
      "Validation Accuracy = 0.946\n",
      "\n",
      "\n",
      "EPOCH 122 ...\n",
      "Validation Accuracy = 0.933\n",
      "\n",
      "\n",
      "EPOCH 123 ...\n",
      "Validation Accuracy = 0.943\n",
      "\n",
      "\n",
      "EPOCH 124 ...\n",
      "Validation Accuracy = 0.955\n",
      "\n",
      "\n",
      "EPOCH 125 ...\n",
      "Validation Accuracy = 0.950\n",
      "\n",
      "\n",
      "EPOCH 126 ...\n",
      "Validation Accuracy = 0.949\n",
      "\n",
      "\n",
      "EPOCH 127 ...\n",
      "Validation Accuracy = 0.950\n",
      "\n",
      "\n",
      "EPOCH 128 ...\n",
      "Validation Accuracy = 0.946\n",
      "\n",
      "\n",
      "EPOCH 129 ...\n",
      "Validation Accuracy = 0.950\n",
      "\n",
      "\n",
      "EPOCH 130 ...\n",
      "Validation Accuracy = 0.949\n",
      "\n",
      "\n",
      "EPOCH 131 ...\n",
      "Validation Accuracy = 0.950\n",
      "\n",
      "\n",
      "EPOCH 132 ...\n",
      "Validation Accuracy = 0.953\n",
      "\n",
      "\n",
      "EPOCH 133 ...\n",
      "Validation Accuracy = 0.952\n",
      "\n",
      "\n",
      "EPOCH 134 ...\n",
      "Validation Accuracy = 0.956\n",
      "\n",
      "\n",
      "EPOCH 135 ...\n",
      "Validation Accuracy = 0.952\n",
      "\n",
      "\n",
      "EPOCH 136 ...\n",
      "Validation Accuracy = 0.949\n",
      "\n",
      "\n",
      "EPOCH 137 ...\n",
      "Validation Accuracy = 0.950\n",
      "\n",
      "\n",
      "EPOCH 138 ...\n",
      "Validation Accuracy = 0.949\n",
      "\n",
      "\n",
      "EPOCH 139 ...\n",
      "Validation Accuracy = 0.944\n",
      "\n",
      "\n",
      "EPOCH 140 ...\n",
      "Validation Accuracy = 0.946\n",
      "\n",
      "\n",
      "EPOCH 141 ...\n",
      "Validation Accuracy = 0.946\n",
      "\n",
      "\n",
      "EPOCH 142 ...\n",
      "Validation Accuracy = 0.950\n",
      "\n",
      "\n",
      "EPOCH 143 ...\n",
      "Validation Accuracy = 0.949\n",
      "\n",
      "\n",
      "EPOCH 144 ...\n",
      "Validation Accuracy = 0.951\n",
      "\n",
      "\n",
      "EPOCH 145 ...\n",
      "Validation Accuracy = 0.951\n",
      "\n",
      "\n",
      "EPOCH 146 ...\n",
      "Validation Accuracy = 0.954\n",
      "\n",
      "\n",
      "EPOCH 147 ...\n",
      "Validation Accuracy = 0.953\n",
      "\n",
      "\n",
      "EPOCH 148 ...\n",
      "Validation Accuracy = 0.945\n",
      "\n",
      "\n",
      "EPOCH 149 ...\n",
      "Validation Accuracy = 0.951\n",
      "\n",
      "\n",
      "EPOCH 150 ...\n",
      "Validation Accuracy = 0.947\n",
      "\n",
      "\n",
      "EPOCH 151 ...\n",
      "Validation Accuracy = 0.949\n",
      "\n",
      "\n",
      "EPOCH 152 ...\n",
      "Validation Accuracy = 0.951\n",
      "\n",
      "\n",
      "EPOCH 153 ...\n",
      "Validation Accuracy = 0.944\n",
      "\n",
      "\n",
      "EPOCH 154 ...\n",
      "Validation Accuracy = 0.950\n",
      "\n",
      "\n",
      "EPOCH 155 ...\n",
      "Validation Accuracy = 0.944\n",
      "\n",
      "\n",
      "EPOCH 156 ...\n",
      "Validation Accuracy = 0.954\n",
      "\n",
      "\n",
      "EPOCH 157 ...\n",
      "Validation Accuracy = 0.948\n",
      "\n",
      "\n",
      "EPOCH 158 ...\n",
      "Validation Accuracy = 0.950\n",
      "\n",
      "\n",
      "EPOCH 159 ...\n",
      "Validation Accuracy = 0.948\n",
      "\n",
      "\n",
      "EPOCH 160 ...\n",
      "Validation Accuracy = 0.946\n",
      "\n",
      "\n",
      "EPOCH 161 ...\n",
      "Validation Accuracy = 0.953\n",
      "\n",
      "\n",
      "EPOCH 162 ...\n",
      "Validation Accuracy = 0.947\n",
      "\n",
      "\n",
      "EPOCH 163 ...\n",
      "Validation Accuracy = 0.946\n",
      "\n",
      "\n",
      "EPOCH 164 ...\n",
      "Validation Accuracy = 0.947\n",
      "\n",
      "\n",
      "EPOCH 165 ...\n",
      "Validation Accuracy = 0.946\n",
      "\n",
      "\n",
      "EPOCH 166 ...\n",
      "Validation Accuracy = 0.956\n",
      "\n",
      "\n",
      "EPOCH 167 ...\n",
      "Validation Accuracy = 0.950\n",
      "\n",
      "\n",
      "EPOCH 168 ...\n",
      "Validation Accuracy = 0.954\n",
      "\n",
      "\n",
      "EPOCH 169 ...\n",
      "Validation Accuracy = 0.954\n",
      "\n",
      "\n",
      "EPOCH 170 ...\n",
      "Validation Accuracy = 0.954\n",
      "\n",
      "\n",
      "EPOCH 171 ...\n",
      "Validation Accuracy = 0.952\n",
      "\n",
      "\n",
      "EPOCH 172 ...\n",
      "Validation Accuracy = 0.956\n",
      "\n",
      "\n",
      "EPOCH 173 ...\n",
      "Validation Accuracy = 0.948\n",
      "\n",
      "\n",
      "EPOCH 174 ...\n",
      "Validation Accuracy = 0.950\n",
      "\n",
      "\n",
      "EPOCH 175 ...\n",
      "Validation Accuracy = 0.951\n",
      "\n",
      "\n",
      "EPOCH 176 ...\n",
      "Validation Accuracy = 0.949\n",
      "\n",
      "\n",
      "EPOCH 177 ...\n",
      "Validation Accuracy = 0.957\n",
      "\n",
      "\n",
      "EPOCH 178 ...\n",
      "Validation Accuracy = 0.950\n",
      "\n",
      "\n",
      "EPOCH 179 ...\n",
      "Validation Accuracy = 0.944\n",
      "\n",
      "\n",
      "EPOCH 180 ...\n",
      "Validation Accuracy = 0.949\n",
      "\n",
      "\n",
      "EPOCH 181 ...\n",
      "Validation Accuracy = 0.952\n",
      "\n",
      "\n",
      "EPOCH 182 ...\n",
      "Validation Accuracy = 0.949\n",
      "\n",
      "\n",
      "EPOCH 183 ...\n",
      "Validation Accuracy = 0.948\n",
      "\n",
      "\n",
      "EPOCH 184 ...\n",
      "Validation Accuracy = 0.955\n",
      "\n",
      "\n",
      "EPOCH 185 ...\n",
      "Validation Accuracy = 0.951\n",
      "\n",
      "\n",
      "EPOCH 186 ...\n",
      "Validation Accuracy = 0.954\n",
      "\n",
      "\n",
      "EPOCH 187 ...\n",
      "Validation Accuracy = 0.951\n",
      "\n",
      "\n",
      "EPOCH 188 ...\n",
      "Validation Accuracy = 0.950\n",
      "\n",
      "\n",
      "EPOCH 189 ...\n",
      "Validation Accuracy = 0.948\n",
      "\n",
      "\n",
      "EPOCH 190 ...\n",
      "Validation Accuracy = 0.946\n",
      "\n",
      "\n",
      "EPOCH 191 ...\n",
      "Validation Accuracy = 0.951\n",
      "\n",
      "\n",
      "EPOCH 192 ...\n",
      "Validation Accuracy = 0.950\n",
      "\n",
      "\n",
      "EPOCH 193 ...\n",
      "Validation Accuracy = 0.951\n",
      "\n",
      "\n",
      "EPOCH 194 ...\n",
      "Validation Accuracy = 0.954\n",
      "\n",
      "\n",
      "EPOCH 195 ...\n",
      "Validation Accuracy = 0.951\n",
      "\n",
      "\n",
      "EPOCH 196 ...\n",
      "Validation Accuracy = 0.947\n",
      "\n",
      "\n",
      "EPOCH 197 ...\n",
      "Validation Accuracy = 0.957\n",
      "\n",
      "\n",
      "EPOCH 198 ...\n",
      "Validation Accuracy = 0.957\n",
      "\n",
      "\n",
      "EPOCH 199 ...\n",
      "Validation Accuracy = 0.948\n",
      "\n",
      "\n",
      "EPOCH 200 ...\n",
      "Validation Accuracy = 0.956\n",
      "\n",
      "Model saved\n"
     ]
    }
   ],
   "source": [
    "from sklearn.utils import shuffle\n",
    "\n",
    "with tf.Session() as sess:\n",
    "    sess.run(tf.global_variables_initializer())\n",
    "    num_examples = len(X_train)\n",
    "    \n",
    "    validation_accuracy = evaluate(X_valid, y_valid)\n",
    "    print(\"Training...\")\n",
    "    print()\n",
    "    for i in range(EPOCHS):\n",
    "        #keep_prob = 0.5\n",
    "        X_train, y_train = shuffle(X_train, y_train)\n",
    "        for offset in range(0, num_examples, BATCH_SIZE):\n",
    "            end = offset + BATCH_SIZE\n",
    "            batch_x, batch_y = X_train[offset:end], y_train[offset:end]\n",
    "            optimizer, cost = sess.run([training_operation, loss_operation], feed_dict={x: batch_x, y: batch_y})\n",
    "            \n",
    "          \n",
    "        #keep_prob = 1.0\n",
    "        validation_accuracy = evaluate(X_valid, y_valid)\n",
    "        print()\n",
    "        print(\"EPOCH {} ...\".format(i+1))\n",
    "        print(\"Validation Accuracy = {:.3f}\".format(validation_accuracy))\n",
    "        print()\n",
    "        \n",
    "    saver.save(sess, './CarNd')\n",
    "    print(\"Model saved\")"
   ]
  },
  {
   "cell_type": "code",
   "execution_count": 21,
   "metadata": {
    "collapsed": false,
    "deletable": true,
    "editable": true
   },
   "outputs": [
    {
     "name": "stdout",
     "output_type": "stream",
     "text": [
      "Test Accuracy = 0.932\n"
     ]
    }
   ],
   "source": [
    "with tf.Session() as sess:\n",
    "    saver.restore(sess, tf.train.latest_checkpoint('.'))\n",
    "    #keep_prob = 1.0\n",
    "    test_accuracy = evaluate(X_test, y_test)\n",
    "    print(\"Test Accuracy = {:.3f}\".format(test_accuracy))\n",
    "    #writer.flush() "
   ]
  },
  {
   "cell_type": "markdown",
   "metadata": {
    "deletable": true,
    "editable": true
   },
   "source": [
    "---\n",
    "\n",
    "## Step 3: Test a Model on New Images\n",
    "\n",
    "To give yourself more insight into how your model is working, download at least five pictures of German traffic signs from the web and use your model to predict the traffic sign type.\n",
    "\n",
    "You may find `signnames.csv` useful as it contains mappings from the class id (integer) to the actual sign name."
   ]
  },
  {
   "cell_type": "markdown",
   "metadata": {
    "deletable": true,
    "editable": true
   },
   "source": [
    "### Load and Output the Images"
   ]
  },
  {
   "cell_type": "code",
   "execution_count": 34,
   "metadata": {
    "collapsed": false,
    "deletable": true,
    "editable": true
   },
   "outputs": [],
   "source": [
    "import os\n",
    "import csv\n",
    "\n",
    "def load_picture(folder, im_labels):\n",
    "    \"\"\"Load the data for a single letter label.\"\"\"\n",
    "    image_files = os.listdir(folder)\n",
    "    # dataset that will contain the images\n",
    "    # size is len(image_files) - 2, since two of the files are the matlab files\n",
    "    # and the rest are the images, named with a sequential number\n",
    "    dataset = np.ndarray(shape=(len(image_files), image_width, image_height, 3),\n",
    "                         dtype=np.float32)\n",
    "    num_images = len(image_files)\n",
    "    # last file is the labels' csv\n",
    "    data_labels = []\n",
    "    data = []\n",
    "    with open(im_labels, 'r') as f:\n",
    "        reader = csv.reader(f)\n",
    "        for row in reader:\n",
    "            data_labels.append(int(row[0]))\n",
    "        \n",
    "    print(\"Labels = :\", data_labels)\n",
    "    \n",
    "    for i in range(num_images):\n",
    "        try:\n",
    "            # get the name of the image as a string\n",
    "            plt.figure(i, figsize=(1,1))\n",
    "            name = str(i)+'.jpg'\n",
    "            image_file = os.path.join(folder, name)\n",
    "            # open image\n",
    "            image = Image.open(image_file)#.convert('L')\n",
    "            # display the image\n",
    "            plt.imshow(image)\n",
    "            print(\"Extra Data Shape: {}\".format(np.asarray(image).shape))\n",
    "            # resize image to 32x32\n",
    "            image = image.resize((32, 32))\n",
    "            plt.figure(i+num_images, figsize=(1,1))\n",
    "            plt.imshow(image)\n",
    "            print(\"image Shape: {}\".format(np.asarray(image).shape))\n",
    "            # get the image data\n",
    "            # center the data around 0, and normalize\n",
    "            #image_data = ((np.array(image.getdata(), np.float32).reshape(image.size[1], image.size[0])) - pixel_depth / 2) / pixel_depth\n",
    "            # add the image to the dataset\n",
    "            dataset[i, :, :, :] = image#_data   \n",
    "        except IOError as e:\n",
    "            print('Could not read:', ':', e, '- it\\'s ok, skipping.')\n",
    "    print(\"Extra Data Shape: {}\".format(dataset.shape))\n",
    "    dataset = np.array(dataset)\n",
    "    data_labels = np.array(data_labels)\n",
    "    print(\"Extra Labels Shape: {}\".format(data_labels.shape))\n",
    "    return dataset, data_labels"
   ]
  },
  {
   "cell_type": "code",
   "execution_count": 35,
   "metadata": {
    "collapsed": false,
    "deletable": true,
    "editable": true
   },
   "outputs": [
    {
     "name": "stdout",
     "output_type": "stream",
     "text": [
      "Labels = : [1, 24, 25, 27, 32]\n",
      "Extra Data Shape: (446, 450, 3)\n",
      "image Shape: (32, 32, 3)\n",
      "Extra Data Shape: (391, 450, 3)\n",
      "image Shape: (32, 32, 3)\n",
      "Extra Data Shape: (391, 450, 3)\n",
      "image Shape: (32, 32, 3)\n",
      "Extra Data Shape: (391, 450, 3)\n",
      "image Shape: (32, 32, 3)\n",
      "Extra Data Shape: (445, 450, 3)\n",
      "image Shape: (32, 32, 3)\n",
      "Extra Data Shape: (5, 32, 32, 3)\n",
      "Extra Labels Shape: (5,)\n",
      "\n",
      "Extra Data Shape: (5, 32, 32, 3)\n",
      "\n",
      "\n",
      "Extra Labels Shape: (5,)\n",
      "\n"
     ]
    },
    {
     "data": {
      "image/png": "[encoded data removed]",
      "text/plain": [
       "<matplotlib.figure.Figure at 0x52d8a198>"
      ]
     },
     "metadata": {},
     "output_type": "display_data"
    },
    {
     "data": {
      "image/png": "[encoded data removed]",
      "text/plain": [
       "<matplotlib.figure.Figure at 0x1c9ada20>"
      ]
     },
     "metadata": {},
     "output_type": "display_data"
    },
    {
     "data": {
      "image/png": "[encoded data removed]",
      "text/plain": [
       "<matplotlib.figure.Figure at 0x53151ac8>"
      ]
     },
     "metadata": {},
     "output_type": "display_data"
    },
    {
     "data": {
      "image/png": "[encoded data removed]",
      "text/plain": [
       "<matplotlib.figure.Figure at 0x53167a90>"
      ]
     },
     "metadata": {},
     "output_type": "display_data"
    },
    {
     "data": {
      "image/png": "[encoded data removed]",
      "text/plain": [
       "<matplotlib.figure.Figure at 0x52d92e10>"
      ]
     },
     "metadata": {},
     "output_type": "display_data"
    },
    {
     "data": {
      "image/png": "[encoded data removed]",
      "text/plain": [
       "<matplotlib.figure.Figure at 0x51505470>"
      ]
     },
     "metadata": {},
     "output_type": "display_data"
    },
    {
     "data": {
      "image/png": "[encoded data removed]",
      "text/plain": [
       "<matplotlib.figure.Figure at 0x49057b8>"
      ]
     },
     "metadata": {},
     "output_type": "display_data"
    },
    {
     "data": {
      "image/png": "[encoded data removed]",
      "text/plain": [
       "<matplotlib.figure.Figure at 0x1c9fc358>"
      ]
     },
     "metadata": {},
     "output_type": "display_data"
    },
    {
     "data": {
      "image/png": "[encoded data removed]",
      "text/plain": [
       "<matplotlib.figure.Figure at 0x53167860>"
      ]
     },
     "metadata": {},
     "output_type": "display_data"
    },
    {
     "data": {
      "image/png": "[encoded data removed]",
      "text/plain": [
       "<matplotlib.figure.Figure at 0x52da87f0>"
      ]
     },
     "metadata": {},
     "output_type": "display_data"
    }
   ],
   "source": [
    "\n",
    "X_extra, y_extra = load_picture('Images', 'labels.csv')# reformat the dataset/labels\n",
    "\n",
    "# print the dataset shape\n",
    "print()\n",
    "print(\"Extra Data Shape: {}\".format(X_extra.shape))\n",
    "print()\n",
    "\n",
    "print()\n",
    "print(\"Extra Labels Shape: {}\".format(y_extra.shape))\n",
    "print()"
   ]
  },
  {
   "cell_type": "code",
   "execution_count": 36,
   "metadata": {
    "collapsed": false,
    "deletable": true,
    "editable": true
   },
   "outputs": [],
   "source": [
    "# convert images to grayscale\n",
    "#ex_x = []\n",
    "#for i in range(len(X_extra)):\n",
    "#    image = X_extra[i].squeeze()\n",
    "#    gray_image = cv2.cvtColor(image.astype(np.float32), cv2.COLOR_RGB2GRAY)\n",
    "#    #gray_image = cv2.cvtColor(image, cv2.COLOR_BGR2GRAY)\n",
    "#    ex_x.append(gray_image)#(cv2.cvtColor(image, cv2.COLOR_BGR2GRAY))\n",
    "#X_extra = np.array(ex_x)"
   ]
  },
  {
   "cell_type": "code",
   "execution_count": 37,
   "metadata": {
    "collapsed": false,
    "deletable": true,
    "editable": true
   },
   "outputs": [
    {
     "name": "stdout",
     "output_type": "stream",
     "text": [
      "\n",
      "Extra Data Shape: (5, 32, 32, 3)\n",
      "\n",
      "\n",
      "Extra Labels Shape: (5,)\n",
      "\n"
     ]
    },
    {
     "data": {
      "image/png": "[encoded data removed]",
      "text/plain": [
       "<matplotlib.figure.Figure at 0x52d68a58>"
      ]
     },
     "metadata": {},
     "output_type": "display_data"
    },
    {
     "data": {
      "image/png": "[encoded data removed]",
      "text/plain": [
       "<matplotlib.figure.Figure at 0x52d1b898>"
      ]
     },
     "metadata": {},
     "output_type": "display_data"
    },
    {
     "data": {
      "image/png": "[encoded data removed]",
      "text/plain": [
       "<matplotlib.figure.Figure at 0x1cb18be0>"
      ]
     },
     "metadata": {},
     "output_type": "display_data"
    },
    {
     "data": {
      "image/png": "[encoded data removed]",
      "text/plain": [
       "<matplotlib.figure.Figure at 0x1cb7bc88>"
      ]
     },
     "metadata": {},
     "output_type": "display_data"
    },
    {
     "data": {
      "image/png": "[encoded data removed]",
      "text/plain": [
       "<matplotlib.figure.Figure at 0x1cac5828>"
      ]
     },
     "metadata": {},
     "output_type": "display_data"
    }
   ],
   "source": [
    "#X_extra = reformat(X_extra)\n",
    "# print the dataset shape\n",
    "print()\n",
    "print(\"Extra Data Shape: {}\".format(X_extra.shape))\n",
    "print()\n",
    "\n",
    "print()\n",
    "print(\"Extra Labels Shape: {}\".format(y_extra.shape))\n",
    "print()\n",
    "\n",
    "#for index in range(len(X_extra)):\n",
    "#    plt.figure(index, figsize=(1,1))\n",
    "#    image = X_extra[index].squeeze()\n",
    "#    plt.imshow(image, cmap=\"gray\")\n",
    "\n",
    "# normalise data\n",
    "X_extra = X_extra/255.0\n",
    "\n",
    "\n",
    "for index in range(len(X_extra)):\n",
    "    plt.figure(2*index+1, figsize=(1,1))\n",
    "    image = X_extra[index].squeeze()\n",
    "    plt.imshow(image)#, cmap=\"gray\")"
   ]
  },
  {
   "cell_type": "markdown",
   "metadata": {
    "deletable": true,
    "editable": true
   },
   "source": [
    "### Predict the Sign Type for Each Image"
   ]
  },
  {
   "cell_type": "code",
   "execution_count": 42,
   "metadata": {
    "collapsed": false,
    "deletable": true,
    "editable": true
   },
   "outputs": [
    {
     "name": "stdout",
     "output_type": "stream",
     "text": [
      "Extra Accuracy = 0.200\n"
     ]
    }
   ],
   "source": [
    "### Run the predictions here and use the model to output the prediction for each image.\n",
    "### Make sure to pre-process the images with the same pre-processing pipeline used earlier.\n",
    "### Feel free to use as many code cells as needed.\n",
    "with tf.Session() as sess:\n",
    "    #logits = LeNet(X_extra)\n",
    "    saver.restore(sess, tf.train.latest_checkpoint('.'))\n",
    "    #keep_prob = 1.0\n",
    "    extra_accuracy = evaluate(X_extra, y_extra)\n",
    "    print(\"Extra Accuracy = {:.3f}\".format(extra_accuracy))\n",
    "    #writer.flush() "
   ]
  },
  {
   "cell_type": "markdown",
   "metadata": {},
   "source": [
    "Accuracy on new images was 20%"
   ]
  },
  {
   "cell_type": "markdown",
   "metadata": {
    "deletable": true,
    "editable": true
   },
   "source": [
    "### Analyze Performance"
   ]
  },
  {
   "cell_type": "code",
   "execution_count": 4,
   "metadata": {
    "collapsed": true,
    "deletable": true,
    "editable": true
   },
   "outputs": [],
   "source": [
    "### Calculate the accuracy for these 5 new images. \n",
    "### For example, if the model predicted 1 out of 5 signs correctly, it's 20% accurate on these new images."
   ]
  },
  {
   "cell_type": "markdown",
   "metadata": {
    "deletable": true,
    "editable": true
   },
   "source": [
    "### Output Top 5 Softmax Probabilities For Each Image Found on the Web"
   ]
  },
  {
   "cell_type": "markdown",
   "metadata": {
    "deletable": true,
    "editable": true
   },
   "source": [
    "For each of the new images, print out the model's softmax probabilities to show the **certainty** of the model's predictions (limit the output to the top 5 probabilities for each image). [`tf.nn.top_k`](https://www.tensorflow.org/versions/r0.12/api_docs/python/nn.html#top_k) could prove helpful here. \n",
    "\n",
    "The example below demonstrates how tf.nn.top_k can be used to find the top k predictions for each image.\n",
    "\n",
    "`tf.nn.top_k` will return the values and indices (class ids) of the top k predictions. So if k=3, for each sign, it'll return the 3 largest probabilities (out of a possible 43) and the correspoding class ids.\n",
    "\n",
    "Take this numpy array as an example. The values in the array represent predictions. The array contains softmax probabilities for five candidate images with six possible classes. `tk.nn.top_k` is used to choose the three classes with the highest probability:\n",
    "\n",
    "```\n",
    "# (5, 6) array\n",
    "a = np.array([[ 0.24879643,  0.07032244,  0.12641572,  0.34763842,  0.07893497,\n",
    "         0.12789202],\n",
    "       [ 0.28086119,  0.27569815,  0.08594638,  0.0178669 ,  0.18063401,\n",
    "         0.15899337],\n",
    "       [ 0.26076848,  0.23664738,  0.08020603,  0.07001922,  0.1134371 ,\n",
    "         0.23892179],\n",
    "       [ 0.11943333,  0.29198961,  0.02605103,  0.26234032,  0.1351348 ,\n",
    "         0.16505091],\n",
    "       [ 0.09561176,  0.34396535,  0.0643941 ,  0.16240774,  0.24206137,\n",
    "         0.09155967]])\n",
    "```\n",
    "\n",
    "Running it through `sess.run(tf.nn.top_k(tf.constant(a), k=3))` produces:\n",
    "\n",
    "```\n",
    "TopKV2(values=array([[ 0.34763842,  0.24879643,  0.12789202],\n",
    "       [ 0.28086119,  0.27569815,  0.18063401],\n",
    "       [ 0.26076848,  0.23892179,  0.23664738],\n",
    "       [ 0.29198961,  0.26234032,  0.16505091],\n",
    "       [ 0.34396535,  0.24206137,  0.16240774]]), indices=array([[3, 0, 5],\n",
    "       [0, 1, 4],\n",
    "       [0, 5, 1],\n",
    "       [1, 3, 5],\n",
    "       [1, 4, 3]], dtype=int32))\n",
    "```\n",
    "\n",
    "Looking just at the first row we get `[ 0.34763842,  0.24879643,  0.12789202]`, you can confirm these are the 3 largest probabilities in `a`. You'll also notice `[3, 0, 5]` are the corresponding indices."
   ]
  },
  {
   "cell_type": "code",
   "execution_count": 62,
   "metadata": {
    "collapsed": true
   },
   "outputs": [],
   "source": [
    "# used code from the post of TimTobey in the forums\n",
    "def plot_top_k_probabilities(cls, prob):\n",
    "    plt.plot(list(cls), (list(prob)), 'ro')\n",
    "    x1, x2, y1, y2 = plt.axis()\n",
    "    #plt.axis(0, n_classes, 0, 1.0)\n",
    "    plt.ylabel('Probability')\n",
    "    plt.title('Softmax Probanilities')\n",
    "    plt.show()"
   ]
  },
  {
   "cell_type": "code",
   "execution_count": 63,
   "metadata": {
    "collapsed": false,
    "deletable": true,
    "editable": true
   },
   "outputs": [
    {
     "name": "stdout",
     "output_type": "stream",
     "text": [
      "\n",
      "Logits: Tensor(\"add_42:0\", shape=(5, 43), dtype=float32)\n",
      "\n",
      "\n",
      "Image 0 : \n",
      "Probabilities:\n",
      " [  7.70199656e-01   1.75193176e-01   5.30797504e-02   6.95903960e-04\n",
      "   5.22939081e-04]\n",
      "Classes:\n",
      " [12 38 13 32  6]\n",
      "\n"
     ]
    },
    {
     "data": {
      "image/png": "[encoded data removed]",
      "text/plain": [
       "<matplotlib.figure.Figure at 0xaad3f60>"
      ]
     },
     "metadata": {},
     "output_type": "display_data"
    },
    {
     "name": "stdout",
     "output_type": "stream",
     "text": [
      "\n",
      "Image 1 : \n",
      "Probabilities:\n",
      " [  9.99970794e-01   2.74775139e-05   1.70998067e-06   9.42743750e-09\n",
      "   3.72687969e-09]\n",
      "Classes:\n",
      " [24 26 18 36 27]\n",
      "\n"
     ]
    },
    {
     "data": {
      "image/png": "[encoded data removed]",
      "text/plain": [
       "<matplotlib.figure.Figure at 0x9865e10>"
      ]
     },
     "metadata": {},
     "output_type": "display_data"
    },
    {
     "name": "stdout",
     "output_type": "stream",
     "text": [
      "\n",
      "Image 2 : \n",
      "Probabilities:\n",
      " [  9.99999166e-01   8.92378466e-07   7.75587073e-14   5.09112202e-14\n",
      "   6.91195773e-16]\n",
      "Classes:\n",
      " [11  1 12 21 40]\n",
      "\n"
     ]
    },
    {
     "data": {
      "image/png": "[encoded data removed]",
      "text/plain": [
       "<matplotlib.figure.Figure at 0x1cba1940>"
      ]
     },
     "metadata": {},
     "output_type": "display_data"
    },
    {
     "name": "stdout",
     "output_type": "stream",
     "text": [
      "\n",
      "Image 3 : \n",
      "Probabilities:\n",
      " [  9.99976397e-01   2.36392079e-05   2.54182821e-11   8.77807636e-12\n",
      "   2.01526599e-12]\n",
      "Classes:\n",
      " [18 26 37 24 27]\n",
      "\n"
     ]
    },
    {
     "data": {
      "image/png": "[encoded data removed]",
      "text/plain": [
       "<matplotlib.figure.Figure at 0x1c95f320>"
      ]
     },
     "metadata": {},
     "output_type": "display_data"
    },
    {
     "name": "stdout",
     "output_type": "stream",
     "text": [
      "\n",
      "Image 4 : \n",
      "Probabilities:\n",
      " [  1.00000000e+00   9.04031250e-09   5.33296296e-10   1.57161855e-16\n",
      "   6.87623546e-20]\n",
      "Classes:\n",
      " [ 6 41 32 11 38]\n",
      "\n"
     ]
    },
    {
     "data": {
      "image/png": "[encoded data removed]",
      "text/plain": [
       "<matplotlib.figure.Figure at 0x1c94f2b0>"
      ]
     },
     "metadata": {},
     "output_type": "display_data"
    }
   ],
   "source": [
    "### Print out the top five softmax probabilities for the predictions on the German traffic sign images found on the web. \n",
    "### Feel free to use as many code cells as needed.\n",
    "#logits = LeNet(X_extra)\n",
    "print()\n",
    "print(\"Logits: {}\".format(logits))\n",
    "print()\n",
    "with tf.Session() as sess:\n",
    "    saver.restore(sess, tf.train.latest_checkpoint('.'))\n",
    "    probs, indices = sess.run(tf.nn.top_k(tf.constant(tf.nn.softmax(logits).eval()), k=5))\n",
    "    for i in range(probs.shape[0]):\n",
    "        plt.figure(i+1)\n",
    "        print()\n",
    "        print(\"Image {} : \".format(i))\n",
    "        print(\"Probabilities:\\n {}\\nClasses:\\n {}\".format(probs[i], indices[i]))\n",
    "        print()\n",
    "        plot_top_k_probabilities(indices[i], probs[i])\n",
    "    "
   ]
  },
  {
   "cell_type": "code",
   "execution_count": 64,
   "metadata": {
    "collapsed": false,
    "deletable": true,
    "editable": true
   },
   "outputs": [
    {
     "name": "stdout",
     "output_type": "stream",
     "text": [
      "\n",
      "Softmax: [[  3.45277328e-13   6.80852245e-05   7.97119952e-08   2.69769190e-11\n",
      "    5.31559735e-12   4.85740836e-10   5.22939081e-04   6.97573785e-17\n",
      "    4.20285501e-10   1.05772257e-13   8.86376442e-15   8.67500560e-08\n",
      "    7.70199656e-01   5.30797504e-02   1.46441489e-05   1.59222201e-12\n",
      "    6.22355967e-14   1.71677494e-09   4.36207088e-08   5.65147798e-12\n",
      "    2.38074227e-10   3.60473124e-10   1.17303585e-14   2.23592727e-15\n",
      "    3.47116975e-13   6.13207332e-11   5.19058518e-10   3.20935986e-12\n",
      "    3.90422156e-06   3.06467742e-12   1.96475747e-14   1.11282050e-16\n",
      "    6.95903960e-04   4.94168508e-12   4.32979505e-07   3.36340489e-09\n",
      "    1.46099239e-06   1.54294787e-04   1.75193176e-01   1.29532637e-07\n",
      "    6.51601003e-05   2.38963537e-07   6.75958067e-10]\n",
      " [  2.46093780e-19   1.10437951e-13   4.00861912e-25   1.72341796e-29\n",
      "    2.44524431e-12   1.56359350e-26   4.89598178e-22   2.86016963e-24\n",
      "    2.20004355e-21   8.98268246e-30   3.86096183e-28   3.32500163e-16\n",
      "    7.20981890e-27   4.11060549e-14   1.79367657e-16   5.70406845e-19\n",
      "    7.44206062e-27   1.75197548e-20   1.70998067e-06   1.43217737e-17\n",
      "    7.59199614e-20   1.90784328e-17   1.92224408e-15   9.26812032e-27\n",
      "    9.99970794e-01   1.51102947e-12   2.74775139e-05   3.72687969e-09\n",
      "    5.58604373e-19   4.41486404e-19   1.61665213e-19   2.42710993e-22\n",
      "    1.54297525e-24   8.10609774e-11   8.16089524e-25   2.71130187e-25\n",
      "    9.42743750e-09   2.34305284e-12   1.32355436e-22   2.64438657e-17\n",
      "    1.80735578e-19   4.08773088e-24   2.98805087e-22]\n",
      " [  9.19831863e-36   8.92378466e-07   1.07627790e-22   1.67208453e-31\n",
      "    0.00000000e+00   1.95759213e-35   5.96798874e-16   3.54338769e-21\n",
      "    0.00000000e+00   0.00000000e+00   0.00000000e+00   9.99999166e-01\n",
      "    7.75587073e-14   6.25707736e-29   5.40678054e-26   2.43505248e-37\n",
      "    3.85284072e-31   2.04202647e-30   7.32869754e-22   3.86273610e-28\n",
      "    0.00000000e+00   5.09112202e-14   0.00000000e+00   0.00000000e+00\n",
      "    3.54610206e-23   9.62448030e-34   1.31023918e-37   4.44577154e-16\n",
      "    6.07579344e-23   0.00000000e+00   1.41092329e-24   1.09825654e-27\n",
      "    6.20191910e-30   4.34670563e-27   0.00000000e+00   0.00000000e+00\n",
      "    1.39170514e-33   5.28478637e-30   1.72518899e-38   1.46922247e-32\n",
      "    6.91195773e-16   2.08513843e-31   8.82692790e-28]\n",
      " [  1.44412834e-25   1.42708665e-24   1.00941323e-28   3.38665117e-35\n",
      "    1.69565756e-17   1.69410937e-28   3.20990474e-20   3.24604442e-28\n",
      "    1.30238944e-24   3.92908855e-30   2.43109635e-24   5.85987939e-18\n",
      "    4.19597334e-26   2.36945811e-25   4.27233694e-19   2.38328479e-23\n",
      "    1.20462517e-29   8.71701334e-19   9.99976397e-01   7.31597256e-19\n",
      "    2.24163555e-20   1.89274224e-22   5.11633666e-21   1.97720436e-26\n",
      "    8.77807636e-12   2.24093325e-21   2.36392079e-05   2.01526599e-12\n",
      "    1.72837074e-23   2.62129210e-24   5.52753763e-23   1.56478839e-20\n",
      "    1.45717213e-24   6.60694434e-16   3.64228952e-24   8.34684135e-29\n",
      "    6.60257922e-18   2.54182821e-11   1.13113878e-16   1.45718402e-23\n",
      "    1.13349496e-20   7.90536051e-25   7.10594465e-25]\n",
      " [  4.05530398e-35   0.00000000e+00   0.00000000e+00   3.46504589e-29\n",
      "    0.00000000e+00   7.68629307e-33   1.00000000e+00   0.00000000e+00\n",
      "    0.00000000e+00   0.00000000e+00   0.00000000e+00   1.57161855e-16\n",
      "    2.32156716e-24   0.00000000e+00   6.18257507e-31   0.00000000e+00\n",
      "    8.51468524e-30   1.15059933e-35   3.20210259e-21   0.00000000e+00\n",
      "    1.57975215e-22   0.00000000e+00   0.00000000e+00   3.42835937e-31\n",
      "    0.00000000e+00   1.18250921e-34   0.00000000e+00   9.22054830e-32\n",
      "    1.00280463e-21   0.00000000e+00   0.00000000e+00   0.00000000e+00\n",
      "    5.33296296e-10   0.00000000e+00   2.05399627e-23   0.00000000e+00\n",
      "    1.63390171e-22   4.93588838e-34   6.87623546e-20   0.00000000e+00\n",
      "    1.26143978e-23   9.04031250e-09   5.86424840e-24]]\n",
      "\n"
     ]
    },
    {
     "data": {
      "image/png": "[encoded data removed]",
      "text/plain": [
       "<matplotlib.figure.Figure at 0x1cab8630>"
      ]
     },
     "metadata": {},
     "output_type": "display_data"
    }
   ],
   "source": [
    "import matplotlib.gridspec as gridspec\n",
    "array = []\n",
    "with tf.Session() as sess:\n",
    "    #logits = LeNet(X_extra)\n",
    "    saver.restore(sess, tf.train.latest_checkpoint('.'))\n",
    "    softmax_probs = tf.nn.softmax(logits).eval()\n",
    "    for i in softmax_probs:\n",
    "        array.append(i)\n",
    "    print()\n",
    "    print(\"Softmax: {}\".format(softmax_probs))\n",
    "    print()\n",
    "    num_rows = 1\n",
    "    num_cols = int(len(X_extra))\n",
    "    fig = plt.figure(1,figsize=(50,10),dpi=200)\n",
    "    gs = gridspec.GridSpec(num_rows, num_cols, wspace=0.2,hspace=0.2)\n",
    "    ax = [plt.subplot(gs[i]) for i in range(num_rows*num_cols)]\n",
    "\n",
    "    for i,file in enumerate(X_extra):\n",
    "        ax[i].plot(softmax_probs[i])\n",
    "    "
   ]
  },
  {
   "cell_type": "markdown",
   "metadata": {
    "deletable": true,
    "editable": true
   },
   "source": [
    "---\n",
    "\n",
    "## Step 4: Visualize the Neural Network's State with Test Images\n",
    "\n",
    " This Section is not required to complete but acts as an additional excersise for understaning the output of a neural network's weights. While neural networks can be a great learning device they are often referred to as a black box. We can understand what the weights of a neural network look like better by plotting their feature maps. After successfully training your neural network you can see what it's feature maps look like by plotting the output of the network's weight layers in response to a test stimuli image. From these plotted feature maps, it's possible to see what characteristics of an image the network finds interesting. For a sign, maybe the inner network feature maps react with high activation to the sign's boundary outline or to the contrast in the sign's painted symbol.\n",
    "\n",
    " Provided for you below is the function code that allows you to get the visualization output of any tensorflow weight layer you want. The inputs to the function should be a stimuli image, one used during training or a new one you provided, and then the tensorflow variable name that represents the layer's state during the training process, for instance if you wanted to see what the [LeNet lab's](https://classroom.udacity.com/nanodegrees/nd013/parts/fbf77062-5703-404e-b60c-95b78b2f3f9e/modules/6df7ae49-c61c-4bb2-a23e-6527e69209ec/lessons/601ae704-1035-4287-8b11-e2c2716217ad/concepts/d4aca031-508f-4e0b-b493-e7b706120f81) feature maps looked like for it's second convolutional layer you could enter conv2 as the tf_activation variable.\n",
    "\n",
    "For an example of what feature map outputs look like, check out NVIDIA's results in their paper [End-to-End Deep Learning for Self-Driving Cars](https://devblogs.nvidia.com/parallelforall/deep-learning-self-driving-cars/) in the section Visualization of internal CNN State. NVIDIA was able to show that their network's inner weights had high activations to road boundary lines by comparing feature maps from an image with a clear path to one without. Try experimenting with a similar test to show that your trained network's weights are looking for interesting features, whether it's looking at differences in feature maps from images with or without a sign, or even what feature maps look like in a trained network vs a completely untrained one on the same sign image.\n",
    "\n",
    "<figure>\n",
    " <img src=\"visualize_cnn.png\" width=\"380\" alt=\"Combined Image\" />\n",
    " <figcaption>\n",
    " <p></p> \n",
    " <p style=\"text-align: center;\"> Your output should look something like this (above)</p> \n",
    " </figcaption>\n",
    "</figure>\n",
    " <p></p> \n"
   ]
  },
  {
   "cell_type": "code",
   "execution_count": 65,
   "metadata": {
    "collapsed": true,
    "deletable": true,
    "editable": true
   },
   "outputs": [],
   "source": [
    "### Visualize your network's feature maps here.\n",
    "### Feel free to use as many code cells as needed.\n",
    "\n",
    "# image_input: the test image being fed into the network to produce the feature maps\n",
    "# tf_activation: should be a tf variable name used during your training procedure that represents the calculated state of a specific weight layer\n",
    "# activation_min/max: can be used to view the activation contrast in more detail, by default matplot sets min and max to the actual min and max values of the output\n",
    "# plt_num: used to plot out multiple different weight feature map sets on the same block, just extend the plt number for each new feature map entry\n",
    "\n",
    "def outputFeatureMap(image_input, tf_activation, activation_min=-1, activation_max=-1 ,plt_num=1):\n",
    "    # Here make sure to preprocess your image_input in a way your network expects\n",
    "    # with size, normalization, ect if needed\n",
    "    # image_input =\n",
    "    # Note: x should be the same name as your network's tensorflow data placeholder variable\n",
    "    # If you get an error tf_activation is not defined it maybe having trouble accessing the variable from inside a function\n",
    "    activation = tf_activation.eval(session=sess,feed_dict={x : image_input})\n",
    "    featuremaps = activation.shape[3]\n",
    "    plt.figure(plt_num, figsize=(15,15))\n",
    "    for featuremap in range(featuremaps):\n",
    "        plt.subplot(6,8, featuremap+1) # sets the number of feature maps to show on each row and column\n",
    "        plt.title('FeatureMap ' + str(featuremap)) # displays the feature map number\n",
    "        if activation_min != -1 & activation_max != -1:\n",
    "            plt.imshow(activation[0,:,:, featuremap], interpolation=\"nearest\", vmin =activation_min, vmax=activation_max, cmap=\"gray\")\n",
    "        elif activation_max != -1:\n",
    "            plt.imshow(activation[0,:,:, featuremap], interpolation=\"nearest\", vmax=activation_max, cmap=\"gray\")\n",
    "        elif activation_min !=-1:\n",
    "            plt.imshow(activation[0,:,:, featuremap], interpolation=\"nearest\", vmin=activation_min, cmap=\"gray\")\n",
    "        else:\n",
    "            plt.imshow(activation[0,:,:, featuremap], interpolation=\"nearest\", cmap=\"gray\")"
   ]
  },
  {
   "cell_type": "code",
   "execution_count": 93,
   "metadata": {
    "collapsed": false,
    "deletable": true,
    "editable": true
   },
   "outputs": [
    {
     "ename": "NameError",
     "evalue": "name 'x1' is not defined",
     "output_type": "error",
     "traceback": [
      "\u001b[1;31m---------------------------------------------------------------------------\u001b[0m",
      "\u001b[1;31mNameError\u001b[0m                                 Traceback (most recent call last)",
      "\u001b[1;32m<ipython-input-93-600c11028a43>\u001b[0m in \u001b[0;36m<module>\u001b[1;34m()\u001b[0m\n\u001b[0;32m      7\u001b[0m     \u001b[1;31m#w = sess.run([W1],feed_dict={x: X_extra[:1], y : y_extra[:1]})\u001b[0m\u001b[1;33m\u001b[0m\u001b[1;33m\u001b[0m\u001b[0m\n\u001b[0;32m      8\u001b[0m     \u001b[0mplt\u001b[0m\u001b[1;33m.\u001b[0m\u001b[0mfigure\u001b[0m\u001b[1;33m(\u001b[0m\u001b[1;36m1\u001b[0m\u001b[1;33m)\u001b[0m\u001b[1;33m\u001b[0m\u001b[0m\n\u001b[1;32m----> 9\u001b[1;33m     \u001b[0moutputFeatureMap\u001b[0m\u001b[1;33m(\u001b[0m\u001b[0mX_extra\u001b[0m\u001b[1;33m[\u001b[0m\u001b[1;33m:\u001b[0m\u001b[1;36m1\u001b[0m\u001b[1;33m]\u001b[0m\u001b[1;33m,\u001b[0m \u001b[0mx1\u001b[0m\u001b[1;33m,\u001b[0m \u001b[0mactivation_min\u001b[0m\u001b[1;33m=\u001b[0m\u001b[1;33m-\u001b[0m\u001b[1;36m1\u001b[0m\u001b[1;33m,\u001b[0m \u001b[0mactivation_max\u001b[0m\u001b[1;33m=\u001b[0m\u001b[1;33m-\u001b[0m\u001b[1;36m1\u001b[0m \u001b[1;33m,\u001b[0m\u001b[0mplt_num\u001b[0m\u001b[1;33m=\u001b[0m\u001b[1;36m1\u001b[0m\u001b[1;33m)\u001b[0m\u001b[1;33m\u001b[0m\u001b[0m\n\u001b[0m\u001b[0;32m     10\u001b[0m     \u001b[0mplt\u001b[0m\u001b[1;33m.\u001b[0m\u001b[0mfigure\u001b[0m\u001b[1;33m(\u001b[0m\u001b[1;36m2\u001b[0m\u001b[1;33m)\u001b[0m\u001b[1;33m\u001b[0m\u001b[0m\n\u001b[0;32m     11\u001b[0m     \u001b[0moutputFeatureMap\u001b[0m\u001b[1;33m(\u001b[0m\u001b[0mX_extra\u001b[0m\u001b[1;33m[\u001b[0m\u001b[1;36m0\u001b[0m\u001b[1;33m]\u001b[0m\u001b[1;33m,\u001b[0m \u001b[0mx2\u001b[0m\u001b[1;33m,\u001b[0m \u001b[0mactivation_min\u001b[0m\u001b[1;33m=\u001b[0m\u001b[1;33m-\u001b[0m\u001b[1;36m1\u001b[0m\u001b[1;33m,\u001b[0m \u001b[0mactivation_max\u001b[0m\u001b[1;33m=\u001b[0m\u001b[1;33m-\u001b[0m\u001b[1;36m1\u001b[0m \u001b[1;33m,\u001b[0m\u001b[0mplt_num\u001b[0m\u001b[1;33m=\u001b[0m\u001b[1;36m1\u001b[0m\u001b[1;33m)\u001b[0m\u001b[1;33m\u001b[0m\u001b[0m\n",
      "\u001b[1;31mNameError\u001b[0m: name 'x1' is not defined"
     ]
    },
    {
     "data": {
      "text/plain": [
       "<matplotlib.figure.Figure at 0x4fa62b00>"
      ]
     },
     "metadata": {},
     "output_type": "display_data"
    }
   ],
   "source": [
    "with tf.Session() as sess:\n",
    "    saver.restore(sess, tf.train.latest_checkpoint('.'))\n",
    "    plt.figure(1)\n",
    "    outputFeatureMap(X_extra[:1], x1, activation_min=-1, activation_max=-1 ,plt_num=1)\n",
    "    plt.figure(2)\n",
    "    outputFeatureMap(X_extra[0], x2, activation_min=-1, activation_max=-1 ,plt_num=1)\n",
    "    plt.figure(3)\n",
    "    outputFeatureMap(X_extra[0], x3, activation_min=-1, activation_max=-1 ,plt_num=1)\n",
    "    plt.figure(4)\n",
    "    outputFeatureMap(X_extra[0], x4, activation_min=-1, activation_max=-1 ,plt_num=1)\n",
    "    plt.figure(5)\n",
    "    outputFeatureMap(X_extra[0], logits, activation_min=-1, activation_max=-1 ,plt_num=1)"
   ]
  },
  {
   "cell_type": "markdown",
   "metadata": {
    "deletable": true,
    "editable": true
   },
   "source": [
    "### Question 9\n",
    "\n",
    "Discuss how you used the visual output of your trained network's feature maps to show that it had learned to look for interesting characteristics in traffic sign images\n"
   ]
  },
  {
   "cell_type": "markdown",
   "metadata": {
    "deletable": true,
    "editable": true
   },
   "source": [
    "**Answer:**"
   ]
  },
  {
   "cell_type": "markdown",
   "metadata": {
    "deletable": true,
    "editable": true
   },
   "source": [
    "> **Note**: Once you have completed all of the code implementations and successfully answered each question above, you may finalize your work by exporting the iPython Notebook as an HTML document. You can do this by using the menu above and navigating to  \\n\",\n",
    "    \"**File -> Download as -> HTML (.html)**. Include the finished document along with this notebook as your submission."
   ]
  },
  {
   "cell_type": "markdown",
   "metadata": {
    "deletable": true,
    "editable": true
   },
   "source": [
    "### Project Writeup\n",
    "\n",
    "Once you have completed the code implementation, document your results in a project writeup using this [template](https://github.com/udacity/CarND-Traffic-Sign-Classifier-Project/blob/master/writeup_template.md) as a guide. The writeup can be in a markdown or pdf file. "
   ]
  }
 ],
 "metadata": {
  "anaconda-cloud": {},
  "kernelspec": {
   "display_name": "Python 3",
   "language": "python",
   "name": "python3"
  },
  "language_info": {
   "codemirror_mode": {
    "name": "ipython",
    "version": 3
   },
   "file_extension": ".py",
   "mimetype": "text/x-python",
   "name": "python",
   "nbconvert_exporter": "python",
   "pygments_lexer": "ipython3",
   "version": "3.5.2"
  },
  "widgets": {
   "state": {},
   "version": "1.1.2"
  }
 },
 "nbformat": 4,
 "nbformat_minor": 1
}
